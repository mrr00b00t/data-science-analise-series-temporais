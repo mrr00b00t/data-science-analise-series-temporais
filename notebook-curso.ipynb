{
 "cells": [
  {
   "cell_type": "markdown",
   "id": "c15df883",
   "metadata": {},
   "source": [
    "# Alucar - Analisando as vendas"
   ]
  },
  {
   "cell_type": "markdown",
   "id": "d54dffa3",
   "metadata": {},
   "source": [
    "## Gráfico de vendas, Aumento e Aceleração"
   ]
  },
  {
   "cell_type": "code",
   "execution_count": 1,
   "id": "08cca128",
   "metadata": {},
   "outputs": [],
   "source": [
    "import os\n",
    "import pandas as pd"
   ]
  },
  {
   "cell_type": "code",
   "execution_count": 2,
   "id": "1010b244",
   "metadata": {},
   "outputs": [
    {
     "data": {
      "text/html": [
       "<div>\n",
       "<style scoped>\n",
       "    .dataframe tbody tr th:only-of-type {\n",
       "        vertical-align: middle;\n",
       "    }\n",
       "\n",
       "    .dataframe tbody tr th {\n",
       "        vertical-align: top;\n",
       "    }\n",
       "\n",
       "    .dataframe thead th {\n",
       "        text-align: right;\n",
       "    }\n",
       "</style>\n",
       "<table border=\"1\" class=\"dataframe\">\n",
       "  <thead>\n",
       "    <tr style=\"text-align: right;\">\n",
       "      <th></th>\n",
       "      <th>mes</th>\n",
       "      <th>vendas</th>\n",
       "    </tr>\n",
       "  </thead>\n",
       "  <tbody>\n",
       "    <tr>\n",
       "      <th>0</th>\n",
       "      <td>2017-01-31</td>\n",
       "      <td>10</td>\n",
       "    </tr>\n",
       "    <tr>\n",
       "      <th>1</th>\n",
       "      <td>2017-02-28</td>\n",
       "      <td>20</td>\n",
       "    </tr>\n",
       "    <tr>\n",
       "      <th>2</th>\n",
       "      <td>2017-03-31</td>\n",
       "      <td>33</td>\n",
       "    </tr>\n",
       "    <tr>\n",
       "      <th>3</th>\n",
       "      <td>2017-04-30</td>\n",
       "      <td>47</td>\n",
       "    </tr>\n",
       "    <tr>\n",
       "      <th>4</th>\n",
       "      <td>2017-05-31</td>\n",
       "      <td>63</td>\n",
       "    </tr>\n",
       "  </tbody>\n",
       "</table>\n",
       "</div>"
      ],
      "text/plain": [
       "          mes  vendas\n",
       "0  2017-01-31      10\n",
       "1  2017-02-28      20\n",
       "2  2017-03-31      33\n",
       "3  2017-04-30      47\n",
       "4  2017-05-31      63"
      ]
     },
     "execution_count": 2,
     "metadata": {},
     "output_type": "execute_result"
    }
   ],
   "source": [
    "alucar = pd.read_csv(os.path.join('material-curso', 'alucar.csv'))\n",
    "alucar.head()"
   ]
  },
  {
   "cell_type": "code",
   "execution_count": 3,
   "id": "c265e735",
   "metadata": {},
   "outputs": [
    {
     "data": {
      "text/plain": [
       "(24, 2)"
      ]
     },
     "execution_count": 3,
     "metadata": {},
     "output_type": "execute_result"
    }
   ],
   "source": [
    "# (Linhas, Colunas): São dois anos de dados\n",
    "alucar.shape"
   ]
  },
  {
   "cell_type": "code",
   "execution_count": 4,
   "id": "681434d8",
   "metadata": {},
   "outputs": [
    {
     "data": {
      "text/plain": [
       "0"
      ]
     },
     "execution_count": 4,
     "metadata": {},
     "output_type": "execute_result"
    }
   ],
   "source": [
    "# Quantidades de nulos\n",
    "alucar.isna().sum().sum()"
   ]
  },
  {
   "cell_type": "code",
   "execution_count": 5,
   "id": "80d3b3f9",
   "metadata": {},
   "outputs": [
    {
     "data": {
      "text/plain": [
       "mes       object\n",
       "vendas     int64\n",
       "dtype: object"
      ]
     },
     "execution_count": 5,
     "metadata": {},
     "output_type": "execute_result"
    }
   ],
   "source": [
    "# Tipo dos dados\n",
    "alucar.dtypes"
   ]
  },
  {
   "cell_type": "code",
   "execution_count": 6,
   "id": "7ccf8628",
   "metadata": {},
   "outputs": [
    {
     "data": {
      "text/plain": [
       "mes       datetime64[ns]\n",
       "vendas             int64\n",
       "dtype: object"
      ]
     },
     "execution_count": 6,
     "metadata": {},
     "output_type": "execute_result"
    }
   ],
   "source": [
    "# Convertendo de object para datetime\n",
    "alucar['mes'] = alucar['mes'].apply(pd.to_datetime)\n",
    "alucar.dtypes"
   ]
  },
  {
   "cell_type": "code",
   "execution_count": null,
   "id": "74dbde79",
   "metadata": {},
   "outputs": [],
   "source": [
    "!pip install seaborn==0.9.0 -q\n",
    "import seaborn as sns\n",
    "%matplotlib inline\n",
    "from matplotlib import pyplot as plt"
   ]
  },
  {
   "cell_type": "code",
   "execution_count": null,
   "id": "48cef0f9",
   "metadata": {},
   "outputs": [],
   "source": [
    "# Gráfico feio, nunca mais: http://urbaninstitute.github.io/graphics-styleguide/\n",
    "def plotar(title, xlabel, ylabel, x, y, dataset):\n",
    "    sns.set_palette('Accent')\n",
    "    sns.set_style('darkgrid')\n",
    "    ax = sns.lineplot(x=x, y=y, data=dataset)\n",
    "    ax.figure.set_size_inches(12, 6)\n",
    "    ax.set_title(title, loc='left', fontsize=18)\n",
    "    ax.set_xlabel(xlabel, fontsize=14)\n",
    "    ax.set_ylabel(ylabel, fontsize=14)\n",
    "    ax = ax\n",
    "\n",
    "plotar('Vendas Alucar de 2017 e 2018', 'Tempo', 'Vendas', 'mes', 'vendas', alucar)"
   ]
  },
  {
   "cell_type": "code",
   "execution_count": null,
   "id": "cb32e874",
   "metadata": {},
   "outputs": [],
   "source": [
    "alucar['aumento'] = alucar['vendas'].diff()\n",
    "alucar.head()"
   ]
  },
  {
   "cell_type": "code",
   "execution_count": null,
   "id": "668dadce",
   "metadata": {},
   "outputs": [],
   "source": [
    "plotar('Aumento das vendas Alucar de 2017 e 2018', 'Tempo', 'Aumento', 'mes', 'aumento', alucar)"
   ]
  },
  {
   "cell_type": "code",
   "execution_count": null,
   "id": "080a26f5",
   "metadata": {},
   "outputs": [],
   "source": [
    "alucar['aceleracao'] = alucar['aumento'].diff()\n",
    "alucar.head()"
   ]
  },
  {
   "cell_type": "code",
   "execution_count": null,
   "id": "4187470b",
   "metadata": {},
   "outputs": [],
   "source": [
    "plotar('Aceleração das vendas da Alucar de 2017 e 2018', 'Tempo', 'Aceleração', 'mes', 'aceleracao', alucar)"
   ]
  },
  {
   "cell_type": "code",
   "execution_count": null,
   "id": "c812a6a2",
   "metadata": {},
   "outputs": [],
   "source": [
    "def plot_comparacao(title, x, y1, y2, y3, dataset):\n",
    "    plt.figure(figsize=(16, 12))\n",
    "    ax = plt.subplot(3, 1, 1) # rows, columns, index\n",
    "    ax.set_title(title, fontsize=18, loc='left')\n",
    "    sns.lineplot(x=x, y=y1, data=dataset)\n",
    "    plt.subplot(3, 1, 2)\n",
    "    sns.lineplot(x=x, y=y2, data=dataset)\n",
    "    plt.subplot(3, 1, 3)\n",
    "    sns.lineplot(x=x, y=y3, data=dataset)\n",
    "\n",
    "plot_comparacao('Análise de vendas da Alucar de 2017 e 2018', 'mes', 'vendas', 'aumento', 'aceleracao', alucar)"
   ]
  },
  {
   "cell_type": "markdown",
   "id": "20387456",
   "metadata": {},
   "source": [
    "## Autocorrelação"
   ]
  },
  {
   "cell_type": "raw",
   "id": "c44c46c3",
   "metadata": {},
   "source": [
    "Autocorrelação  Interpretação\n",
    "1               correlação perfeita positiva\n",
    "0,7 a 0,9       correlação forte\n",
    "0,4 a 0,7       correlação moderada\n",
    "0,2 a 0,4       correlação fraca\n",
    "0               correlação nula\n",
    "< 0             correlação negativa\n",
    "-1              correlação perfeita negativa"
   ]
  },
  {
   "cell_type": "code",
   "execution_count": null,
   "id": "22244e4e",
   "metadata": {},
   "outputs": [],
   "source": [
    "from pandas.plotting import autocorrelation_plot"
   ]
  },
  {
   "cell_type": "code",
   "execution_count": null,
   "id": "1f3f4682",
   "metadata": {},
   "outputs": [],
   "source": [
    "ax = plt.figure(figsize=(12, 6))\n",
    "ax.suptitle('Autocorrelação das vendas', x=0.26, y=0.95)\n",
    "autocorrelation_plot(alucar['vendas'])\n",
    "ax = ax"
   ]
  },
  {
   "cell_type": "code",
   "execution_count": null,
   "id": "79bb3e3b",
   "metadata": {},
   "outputs": [],
   "source": [
    "ax = plt.figure(figsize=(12, 6))\n",
    "ax.suptitle('Autocorrelação do aumento', x=0.26, y=0.95)\n",
    "autocorrelation_plot(alucar['aumento'][1:])\n",
    "ax = ax"
   ]
  },
  {
   "cell_type": "code",
   "execution_count": null,
   "id": "0a995ca9",
   "metadata": {},
   "outputs": [],
   "source": [
    "ax = plt.figure(figsize=(12, 6))\n",
    "ax.suptitle('Autocorrelação do aceleração', x=0.26, y=0.95)\n",
    "autocorrelation_plot(alucar['aceleracao'][2:])\n",
    "ax = ax"
   ]
  },
  {
   "cell_type": "markdown",
   "id": "aa83e01a",
   "metadata": {},
   "source": [
    "# Importância da decomposição e sazonalidade"
   ]
  },
  {
   "cell_type": "markdown",
   "id": "949cfcc9",
   "metadata": {},
   "source": [
    "## Alucar - analisando assinantes da newsletter"
   ]
  },
  {
   "cell_type": "code",
   "execution_count": null,
   "id": "e028ba75",
   "metadata": {},
   "outputs": [],
   "source": [
    "assinantes = pd.read_csv(os.path.join('material-curso', 'newsletter_alucar.csv'))\n",
    "assinantes.head()"
   ]
  },
  {
   "cell_type": "code",
   "execution_count": null,
   "id": "57fb1e1b",
   "metadata": {},
   "outputs": [],
   "source": [
    "assinantes.dtypes"
   ]
  },
  {
   "cell_type": "code",
   "execution_count": null,
   "id": "23aba65e",
   "metadata": {},
   "outputs": [],
   "source": [
    "assinantes.shape, assinantes.isna().sum().sum()"
   ]
  },
  {
   "cell_type": "code",
   "execution_count": null,
   "id": "2287d393",
   "metadata": {},
   "outputs": [],
   "source": [
    "assinantes['mes'] = assinantes['mes'].apply(pd.to_datetime)"
   ]
  },
  {
   "cell_type": "code",
   "execution_count": null,
   "id": "8582289b",
   "metadata": {},
   "outputs": [],
   "source": [
    "assinantes.dtypes"
   ]
  },
  {
   "cell_type": "code",
   "execution_count": null,
   "id": "59fe84c9",
   "metadata": {},
   "outputs": [],
   "source": [
    "assinantes['aumento'] = assinantes['assinantes'].diff()\n",
    "assinantes['aceleracao'] = assinantes['aumento'].diff()\n",
    "assinantes.head()"
   ]
  },
  {
   "cell_type": "code",
   "execution_count": null,
   "id": "1c50f26d",
   "metadata": {},
   "outputs": [],
   "source": [
    "plot_comparacao('Análise de assinantes da newsletter', 'mes', 'assinantes', 'aumento', 'aceleracao', assinantes)"
   ]
  },
  {
   "cell_type": "markdown",
   "id": "a85aa1d6",
   "metadata": {},
   "source": [
    "# Análise das vendas: Chocolura"
   ]
  },
  {
   "cell_type": "code",
   "execution_count": null,
   "id": "c7447f41",
   "metadata": {},
   "outputs": [],
   "source": [
    "chocolura = pd.read_csv(os.path.join('material-curso', 'chocolura.csv'))\n",
    "chocolura.head()"
   ]
  },
  {
   "cell_type": "code",
   "execution_count": null,
   "id": "9c6e1832",
   "metadata": {},
   "outputs": [],
   "source": [
    "chocolura.dtypes"
   ]
  },
  {
   "cell_type": "code",
   "execution_count": null,
   "id": "d764d94a",
   "metadata": {},
   "outputs": [],
   "source": [
    "chocolura['mes'] = chocolura['mes'].apply(pd.to_datetime)\n",
    "chocolura.head()"
   ]
  },
  {
   "cell_type": "code",
   "execution_count": null,
   "id": "90892dc4",
   "metadata": {},
   "outputs": [],
   "source": [
    "chocolura.shape, chocolura.isna().sum().sum()"
   ]
  },
  {
   "cell_type": "code",
   "execution_count": null,
   "id": "93605f7c",
   "metadata": {},
   "outputs": [],
   "source": [
    "chocolura['aumento'] = chocolura['vendas'].diff()\n",
    "chocolura['aceleracao'] = chocolura['aumento'].diff()\n",
    "chocolura.head()"
   ]
  },
  {
   "cell_type": "code",
   "execution_count": null,
   "id": "c8b20f7a",
   "metadata": {},
   "outputs": [],
   "source": [
    "plot_comparacao('Análise de vendas da Chocolura', 'mes', 'vendas', 'aumento', 'aceleracao', chocolura)"
   ]
  },
  {
   "cell_type": "markdown",
   "id": "a4615e2d",
   "metadata": {},
   "source": [
    "## Chocolura - vendas diárias"
   ]
  },
  {
   "cell_type": "code",
   "execution_count": null,
   "id": "2e300db2",
   "metadata": {},
   "outputs": [],
   "source": [
    "vendas_por_dia = pd.read_csv(os.path.join('material-curso', 'vendas_por_dia.csv'))\n",
    "vendas_por_dia.head()"
   ]
  },
  {
   "cell_type": "code",
   "execution_count": null,
   "id": "65975aa0",
   "metadata": {},
   "outputs": [],
   "source": [
    "vendas_por_dia.dtypes"
   ]
  },
  {
   "cell_type": "code",
   "execution_count": null,
   "id": "54f5957a",
   "metadata": {},
   "outputs": [],
   "source": [
    "vendas_por_dia['dia'] = vendas_por_dia['dia'].apply(pd.to_datetime)\n",
    "vendas_por_dia.dtypes"
   ]
  },
  {
   "cell_type": "code",
   "execution_count": null,
   "id": "0b734b15",
   "metadata": {},
   "outputs": [],
   "source": [
    "vendas_por_dia.shape, vendas_por_dia.isna().sum().sum()"
   ]
  },
  {
   "cell_type": "code",
   "execution_count": null,
   "id": "c8a3a7d0",
   "metadata": {},
   "outputs": [],
   "source": [
    "vendas_por_dia['aumento'] = vendas_por_dia['vendas'].diff()\n",
    "vendas_por_dia['aceleracao'] = vendas_por_dia['aumento'].diff()\n",
    "vendas_por_dia.head()"
   ]
  },
  {
   "cell_type": "code",
   "execution_count": null,
   "id": "6855ea10",
   "metadata": {},
   "outputs": [],
   "source": [
    "plot_comparacao('Análise de vendas de Outubro e Novembro da Chocolura', 'dia', 'vendas', 'aumento', 'aceleracao', vendas_por_dia)"
   ]
  },
  {
   "cell_type": "markdown",
   "id": "76b3578e",
   "metadata": {},
   "source": [
    "## Analisando a sazonalidade"
   ]
  },
  {
   "cell_type": "code",
   "execution_count": null,
   "id": "d49aba70",
   "metadata": {},
   "outputs": [],
   "source": [
    "vendas_por_dia['dia_da_semana'] = vendas_por_dia['dia'].dt.day_name()\n",
    "vendas_por_dia.head()"
   ]
  },
  {
   "cell_type": "code",
   "execution_count": null,
   "id": "45b0687a",
   "metadata": {},
   "outputs": [],
   "source": [
    "vendas_por_dia['dia_da_semana'].unique()"
   ]
  },
  {
   "cell_type": "code",
   "execution_count": null,
   "id": "621af376",
   "metadata": {},
   "outputs": [],
   "source": [
    "dias_traduzidos = {\n",
    "    'Monday': 'segunda',\n",
    "    'Tuesday': 'terça',\n",
    "    'Wednesday': 'quarta',\n",
    "    'Thursday': 'quinta',\n",
    "    'Friday': 'sexta',\n",
    "    'Saturday': 'sabado',\n",
    "    'Sunday': 'domingo'\n",
    "}"
   ]
  },
  {
   "cell_type": "code",
   "execution_count": null,
   "id": "94f7c132",
   "metadata": {},
   "outputs": [],
   "source": [
    "vendas_por_dia['dia_da_semana'] = vendas_por_dia['dia_da_semana'].map(dias_traduzidos)\n",
    "vendas_por_dia.head()"
   ]
  },
  {
   "cell_type": "markdown",
   "id": "27539bbb",
   "metadata": {},
   "source": [
    "## Agrupando vendas por dia"
   ]
  },
  {
   "cell_type": "code",
   "execution_count": null,
   "id": "6e657638",
   "metadata": {},
   "outputs": [],
   "source": [
    "vendas_agrupadas = vendas_por_dia.groupby('dia_da_semana')[['vendas', 'aumento', 'aceleracao']].mean().round()\n",
    "vendas_agrupadas"
   ]
  },
  {
   "cell_type": "markdown",
   "id": "56dca8b3",
   "metadata": {},
   "source": [
    "## Autocorrelação das vendas diárias"
   ]
  },
  {
   "cell_type": "code",
   "execution_count": null,
   "id": "e4814a04",
   "metadata": {},
   "outputs": [],
   "source": [
    "ax = plt.figure(figsize=(12, 6))\n",
    "ax.suptitle('Correlação das vendas diárias', fontsize=18, x=0.3, y=0.95)\n",
    "autocorrelation_plot(vendas_por_dia['vendas'])\n",
    "ax = ax"
   ]
  },
  {
   "cell_type": "code",
   "execution_count": null,
   "id": "a8190550",
   "metadata": {},
   "outputs": [],
   "source": [
    "ax = plt.figure(figsize=(12, 6))\n",
    "ax.suptitle('Correlação do aumento das vendas diárias', fontsize=18, x=0.3, y=0.95)\n",
    "autocorrelation_plot(vendas_por_dia['aumento'][1:])\n",
    "ax = ax"
   ]
  },
  {
   "cell_type": "code",
   "execution_count": null,
   "id": "0973ecd7",
   "metadata": {},
   "outputs": [],
   "source": [
    "ax = plt.figure(figsize=(12, 6))\n",
    "ax.suptitle('Correlação da aceleração das vendas diárias', fontsize=18, x=0.3, y=0.95)\n",
    "autocorrelation_plot(vendas_por_dia['aceleracao'][2:])\n",
    "ax = ax"
   ]
  }
 ],
 "metadata": {
  "kernelspec": {
   "display_name": "Python 3 (ipykernel)",
   "language": "python",
   "name": "python3"
  },
  "language_info": {
   "codemirror_mode": {
    "name": "ipython",
    "version": 3
   },
   "file_extension": ".py",
   "mimetype": "text/x-python",
   "name": "python",
   "nbconvert_exporter": "python",
   "pygments_lexer": "ipython3",
   "version": "3.9.12"
  }
 },
 "nbformat": 4,
 "nbformat_minor": 5
}
